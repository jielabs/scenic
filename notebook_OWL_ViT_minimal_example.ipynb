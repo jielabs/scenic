{
 "cells": [
  {
   "cell_type": "markdown",
   "metadata": {
    "id": "PaiG8Ulc75xc"
   },
   "source": [
    "# OWL-ViT minimal example\n",
    "\n",
    "This Colab shows how to **load a pre-trained OWL-ViT checkpoint** and use it to\n",
    "**get object detection predictions** for an image."
   ]
  },
  {
   "cell_type": "markdown",
   "metadata": {
    "id": "5-Yta1B7rtWu"
   },
   "source": [
    "# Download and install OWL-ViT\n",
    "\n",
    "OWL-ViT is implemented in [Scenic](https://github.com/google-research/scenic). The cell below installs the Scenic codebase from GitHub and imports it."
   ]
  },
  {
   "cell_type": "code",
   "execution_count": 80,
   "metadata": {
    "executionInfo": {
     "elapsed": 16039,
     "status": "ok",
     "timestamp": 1652526391946,
     "user": {
      "displayName": "",
      "userId": ""
     },
     "user_tz": -120
    },
    "id": "zWF7RkeZ4B_N",
    "outputId": "76775b48-1a9b-45c1-e377-d0c1a3de4562"
   },
   "outputs": [],
   "source": [
    "# !rm -rf *\n",
    "# !rm -rf .config\n",
    "# !rm -rf .git\n",
    "# !git clone https://github.com/google-research/scenic.git .\n",
    "# !python -m pip install -q .\n",
    "# !python -m pip install -r scenic/projects/baselines/clip/requirements.txt\n",
    "# !echo \"Done.\""
   ]
  },
  {
   "cell_type": "code",
   "execution_count": 81,
   "metadata": {
    "executionInfo": {
     "elapsed": 517,
     "status": "ok",
     "timestamp": 1652526392588,
     "user": {
      "displayName": "",
      "userId": ""
     },
     "user_tz": -120
    },
    "id": "9MKZb6G3-H92"
   },
   "outputs": [],
   "source": [
    "import os\n",
    "\n",
    "import jax\n",
    "from matplotlib import pyplot as plt\n",
    "import numpy as np\n",
    "from scenic.projects.owl_vit import models\n",
    "from scenic.projects.owl_vit.configs import clip_b32, clip_l14, clip_b16\n",
    "from scipy.special import expit as sigmoid\n",
    "import skimage\n",
    "from skimage import io as skimage_io\n",
    "from skimage import transform as skimage_transform"
   ]
  },
  {
   "cell_type": "markdown",
   "metadata": {
    "id": "3WatINO87evx"
   },
   "source": [
    "# Choose config"
   ]
  },
  {
   "cell_type": "code",
   "execution_count": 82,
   "metadata": {
    "executionInfo": {
     "elapsed": 53,
     "status": "ok",
     "timestamp": 1652526392735,
     "user": {
      "displayName": "",
      "userId": ""
     },
     "user_tz": -120
    },
    "id": "k4RKu3Vv5k_3"
   },
   "outputs": [],
   "source": [
    "# config = clip_b32.get_config()  # worst\n",
    "# checkpoint_path = './clip_vit_b32_b0203fc'\n",
    "\n",
    "config = clip_b16.get_config()  # good trade off\n",
    "checkpoint_path = './clip_vit_b16_6171dab'\n",
    "\n",
    "#config = clip_l14.get_config()  # best\n",
    "#checkpoint_path = './clip_vit_l14_d83d374'\n"
   ]
  },
  {
   "cell_type": "markdown",
   "metadata": {
    "id": "6c12cyRK7oOD"
   },
   "source": [
    "# Load the model and variables"
   ]
  },
  {
   "cell_type": "code",
   "execution_count": 83,
   "metadata": {
    "executionInfo": {
     "elapsed": 54,
     "status": "ok",
     "timestamp": 1652526392887,
     "user": {
      "displayName": "",
      "userId": ""
     },
     "user_tz": -120
    },
    "id": "s421Kpp7sXjD"
   },
   "outputs": [],
   "source": [
    "module = models.TextZeroShotDetectionModule(\n",
    "    body_configs=config.model.body,\n",
    "    normalize=config.model.normalize,\n",
    "    box_bias=config.model.box_bias)"
   ]
  },
  {
   "cell_type": "code",
   "execution_count": 84,
   "metadata": {},
   "outputs": [
    {
     "data": {
      "text/plain": [
       "'gs://scenic-bucket/owl_vit/checkpoints/clip_vit_b16_6171dab'"
      ]
     },
     "execution_count": 84,
     "metadata": {},
     "output_type": "execute_result"
    }
   ],
   "source": [
    "config.init_from.checkpoint_path"
   ]
  },
  {
   "cell_type": "code",
   "execution_count": 85,
   "metadata": {
    "executionInfo": {
     "elapsed": 5734,
     "status": "ok",
     "timestamp": 1652526398717,
     "user": {
      "displayName": "",
      "userId": ""
     },
     "user_tz": -120
    },
    "id": "WmaY8tQ23nJ3"
   },
   "outputs": [],
   "source": [
    "\n",
    "variables = module.load_variables(checkpoint_path)"
   ]
  },
  {
   "cell_type": "markdown",
   "metadata": {
    "id": "f3Knbjoxy2zW"
   },
   "source": [
    "# Prepare image"
   ]
  },
  {
   "cell_type": "code",
   "execution_count": 86,
   "metadata": {},
   "outputs": [
    {
     "name": "stdout",
     "output_type": "stream",
     "text": [
      "http://yangjie.org/peas.jpeg\n"
     ]
    }
   ],
   "source": [
    "# filename = os.path.join(skimage.data_dir, 'astronaut.png')\n",
    "#filename = './images/dogpark.jpg'\n",
    "#filename = './images/trees.jpeg'\n",
    "#filename = './images/cows.jpeg'\n",
    "#filename = './images/straw.jpeg'\n",
    "filename = './images/peas.jpeg'\n",
    "#filename = 'https://static4.depositphotos.com/1004288/279/i/450/depositphotos_2799328-stock-photo-green-peas-served-on-a.jpg'\n",
    "#filename = 'https://miro.medium.com/max/480/1*yuWSTpGIelzw_rlmZyLnlA@2x.jpeg'\n",
    "filename = 'http://yangjie.org/peas.jpeg'\n",
    "print(filename)"
   ]
  },
  {
   "cell_type": "code",
   "execution_count": 87,
   "metadata": {},
   "outputs": [],
   "source": [
    "from PIL import Image\n",
    "import requests\n",
    "from io import BytesIO\n",
    "\n",
    "\n",
    "#response = requests.get(filename)\n",
    "#print(filename)\n",
    "#img = Image.open(BytesIO(response.content))\n",
    "#img"
   ]
  },
  {
   "cell_type": "code",
   "execution_count": 88,
   "metadata": {
    "executionInfo": {
     "elapsed": 428,
     "status": "ok",
     "timestamp": 1652526399248,
     "user": {
      "displayName": "",
      "userId": ""
     },
     "user_tz": -120
    },
    "id": "99ilV_T2RyNT"
   },
   "outputs": [
    {
     "name": "stdout",
     "output_type": "stream",
     "text": [
      "(768, 768, 3)\n"
     ]
    },
    {
     "data": {
      "text/plain": [
       "<matplotlib.image.AxesImage at 0x7f7fd847ba60>"
      ]
     },
     "execution_count": 88,
     "metadata": {},
     "output_type": "execute_result"
    },
    {
     "data": {
      "image/png": "[encoded data removed]",
      "text/plain": [
       "<Figure size 432x288 with 1 Axes>"
      ]
     },
     "metadata": {
      "needs_background": "light"
     },
     "output_type": "display_data"
    }
   ],
   "source": [
    "# Load example image:\n",
    "# filename = os.path.join(skimage.data_dir, 'astronaut.png')\n",
    "\n",
    "#print(filename)\n",
    "if filename.lower().startswith('http'):\n",
    "    response = requests.get(filename)\n",
    "    image = Image.open(BytesIO(response.content))\n",
    "    image_uint8 = np.array(image)\n",
    "else:\n",
    "    image_uint8 = skimage_io.imread(filename)\n",
    "\n",
    "image = image_uint8.astype(np.float32) / 255.0\n",
    "\n",
    "# Pad to square with gray pixels on bottom and right:\n",
    "h, w, _ = image.shape\n",
    "size = max(h, w)\n",
    "image_padded = np.pad(\n",
    "    image, ((0, size - h), (0, size - w), (0, 0)), constant_values=0.5)\n",
    "\n",
    "# Resize to model input size:\n",
    "input_image = skimage.transform.resize(\n",
    "    image_padded,\n",
    "    (config.dataset_configs.input_size, config.dataset_configs.input_size),\n",
    "    anti_aliasing=True)\n",
    "\n",
    "print(input_image.shape)\n",
    "plt.imshow(input_image)"
   ]
  },
  {
   "cell_type": "markdown",
   "metadata": {
    "id": "eJvG0eaYyplV"
   },
   "source": [
    "# Prepare text queries"
   ]
  },
  {
   "cell_type": "code",
   "execution_count": 89,
   "metadata": {},
   "outputs": [],
   "source": [
    "#text_query_line = input()\n",
    "text_queries = ['human face', 'rocket', 'nasa badge', 'star-spangled banner']\n",
    "text_queries = ['human', 'dog', 'tree']\n",
    "text_queries = ['house', 'tree']\n",
    "text_queries = ['cow']\n",
    "text_queries = ['pea', 'fork', 'knife', 'plate']\n",
    "text_queries = ['bean']\n",
    "#text_queries = ['green strawberry', 'red strawberry', 'flower', 'tree', 'sky']\n",
    "#text_queries = ['cloud', 'flower', 'plant', 'plant community', 'leaf', 'sky']"
   ]
  },
  {
   "cell_type": "code",
   "execution_count": 90,
   "metadata": {
    "executionInfo": {
     "elapsed": 11400,
     "status": "ok",
     "timestamp": 1652526410762,
     "user": {
      "displayName": "",
      "userId": ""
     },
     "user_tz": -120
    },
    "id": "kSDsqV0UxbtL"
   },
   "outputs": [],
   "source": [
    "import copy\n",
    "tokenized_queries = np.array([\n",
    "    module.tokenize(q, config.dataset_configs.max_query_length)\n",
    "    for q in text_queries\n",
    "])\n",
    "tokenized_queries_raw = copy.copy(tokenized_queries)\n",
    "#print(tokenized_queries.shape)\n",
    "\n",
    "# Pad tokenized queries to avoid recompilation if number of queries changes:\n",
    "tokenized_queries = np.pad(\n",
    "    tokenized_queries,\n",
    "    pad_width=((0, 100 - len(text_queries)), (0, 0)),\n",
    "    constant_values=0)\n",
    "#print(tokenized_queries.shape)"
   ]
  },
  {
   "cell_type": "markdown",
   "metadata": {
    "id": "rdR3OpAIzAA0"
   },
   "source": [
    "# Get predictions\n",
    "This will take a minute on the first execution due to model compilation. Subsequent executions will be faster."
   ]
  },
  {
   "cell_type": "code",
   "execution_count": 91,
   "metadata": {
    "executionInfo": {
     "elapsed": 10355,
     "status": "ok",
     "timestamp": 1652526421213,
     "user": {
      "displayName": "",
      "userId": ""
     },
     "user_tz": -120
    },
    "id": "M16amaHdzGdK"
   },
   "outputs": [
    {
     "name": "stdout",
     "output_type": "stream",
     "text": [
      "inference time: 14.00\n"
     ]
    }
   ],
   "source": [
    "# Note: The model expects a batch dimension.\n",
    "import time\n",
    "\n",
    "start_ts = time.time()\n",
    "predictions = module.apply(\n",
    "    variables,\n",
    "    input_image[None, ...],\n",
    "    tokenized_queries[None, ...],\n",
    "    train=False)\n",
    "\n",
    "# Remove batch dimension and convert to numpy:\n",
    "predictions = jax.tree_map(lambda x: np.array(x[0]), predictions )\n",
    "print('inference time: %.2f' % (time.time() - start_ts))  # 5.31 for b32; 91.45 for l14"
   ]
  },
  {
   "cell_type": "code",
   "execution_count": 92,
   "metadata": {},
   "outputs": [
    {
     "name": "stdout",
     "output_type": "stream",
     "text": [
      "class_embeddings (2304, 512)\n",
      "feature_map (48, 48, 768)\n",
      "pred_boxes (2304, 4)\n",
      "pred_logits (2304, 100)\n",
      "query_embeddings (100, 512)\n"
     ]
    }
   ],
   "source": [
    "for key in predictions.keys():\n",
    "    print(key, predictions[key].shape)"
   ]
  },
  {
   "cell_type": "code",
   "execution_count": 111,
   "metadata": {},
   "outputs": [],
   "source": [
    "%matplotlib inline\n",
    "# https://i.imgur.com/1IWZX69.jpg\n",
    "\n",
    "import cv2\n",
    "\n",
    "actual_indicies = []\n",
    "def show(score_threshold, w_threshold, h_threshold, nms_threshold=0.5):\n",
    "    logits = predictions['pred_logits'][..., :len(text_queries)]  # Remove padding.\n",
    "    scores = sigmoid(np.max(logits, axis=-1))\n",
    "    labels = np.argmax(predictions['pred_logits'], axis=-1)\n",
    "    boxes = predictions['pred_boxes']\n",
    "    embeddings = predictions['class_embeddings']\n",
    "    \n",
    "    rects = [(cx-w/2.0, cy-h/2.0, w, h) for  (cx, cy, w, h) in boxes]\n",
    "#     indicies = nms.boxes(rects, scores, nms_threshold=nms_threshold)\n",
    "    indicies = cv2.dnn.NMSBoxes(rects, scores, score_threshold=score_threshold, nms_threshold=nms_threshold)\n",
    "#    print(len(boxes), score_threshold, nms_threshold, len(indicies))\n",
    "#    print(indicies)\n",
    "\n",
    "    fig, ax = plt.subplots(1, 1, figsize=(16, 16))\n",
    "    ax.imshow(input_image, extent=(0, 1, 1, 0))\n",
    "    ax.set_axis_off()\n",
    "\n",
    "    add_text = True\n",
    "    count = 0\n",
    "    index = 0\n",
    "    for index, values in enumerate(zip(scores, boxes, labels)):\n",
    "      score, box, label = values\n",
    "#       if score < score_threshold:\n",
    "#         continue\n",
    "      if index not in indicies:\n",
    "        continue\n",
    "      cx, cy, w, h = box\n",
    "      if w > w_threshold or h > w_threshold:\n",
    "        continue\n",
    "      count += 1\n",
    "      actual_indicies.append(index)\n",
    "      ax.plot([cx - w / 2, cx + w / 2, cx + w / 2, cx - w / 2, cx - w / 2],\n",
    "              [cy - h / 2, cy - h / 2, cy + h / 2, cy + h / 2, cy - h / 2], 'r')\n",
    "      if add_text:\n",
    "        ax.text(\n",
    "          cx - w / 2 + 0.005,\n",
    "          cy - h / 2 + 0.005,\n",
    "          #f'{text_queries[label]}: {score:1.2f}',\n",
    "          f'{count}',\n",
    "          ha='left',\n",
    "          va='top',\n",
    "          color='red',\n",
    "          bbox={\n",
    "              #'facecolor': 'white',\n",
    "              #'edgecolor': 'red',\n",
    "              'alpha': 0,\n",
    "              'boxstyle': 'square,pad=.3'\n",
    "          })\n",
    "    print('Total count:', count)\n",
    "    plt.show()"
   ]
  },
  {
   "cell_type": "code",
   "execution_count": 112,
   "metadata": {},
   "outputs": [
    {
     "data": {
      "application/vnd.jupyter.widget-view+json": {
       "model_id": "3917c68efae540b5a75cdb55db6de5cc",
       "version_major": 2,
       "version_minor": 0
      },
      "text/plain": [
       "interactive(children=(FloatSlider(value=0.04, description='score threshold', max=0.5, step=0.01), FloatSlider(…"
      ]
     },
     "metadata": {},
     "output_type": "display_data"
    }
   ],
   "source": [
    "import ipywidgets as widgets\n",
    "#from ipywidgets import interact\n",
    "\n",
    "score_threshold = widgets.FloatSlider(value=0.04, min=0, max=0.5, step=0.01, description='score threshold')\n",
    "w_threshold = widgets.FloatSlider(value=0.04, min=0, max=0.2, step=0.01, description='W threshold')\n",
    "h_threshold = widgets.FloatSlider(value=0.04, min=0, max=0.2, step=0.01, description='H threshold')\n",
    "nms_threshold = widgets.FloatSlider(value=0.2, min=0, max=0.5, step=0.01, description='nms threshold')\n",
    "# nms_threshold = 0.2\n",
    "# w_threshold = 0.05\n",
    "# h_threshold = 0.05\n",
    "\n",
    "\n",
    "# text = widgets.FloatText(disabled=True, description='$Total Count$')\n",
    "\n",
    "# def compute(*ignore):\n",
    "#     indicies = show(score_threshold.value, w_threshold, h_threshold, nms_threshold)\n",
    "#     text.value = str(len(indicies))\n",
    "\n",
    "# score_threshold.observe(compute, 'value')\n",
    "\n",
    "#indicies = show(score_threshold.value, w_threshold, h_threshold, nms_threshold, show=False)\n",
    "#text.value = str(len(indicies))\n",
    "# widgets.VBox([score_threshold, text])\n",
    "\n",
    "_ = widgets.interact(show, score_threshold=score_threshold, w_threshold=w_threshold, h_threshold=h_threshold, nms_threshold=nms_threshold)"
   ]
  },
  {
   "cell_type": "code",
   "execution_count": 113,
   "metadata": {},
   "outputs": [
    {
     "data": {
      "text/plain": [
       "[491,\n",
       " 492,\n",
       " 493,\n",
       " 497,\n",
       " 498,\n",
       " 539,\n",
       " 541,\n",
       " 547,\n",
       " 586,\n",
       " 587,\n",
       " 591,\n",
       " 593,\n",
       " 597,\n",
       " 633,\n",
       " 635,\n",
       " 639,\n",
       " 683,\n",
       " 687,\n",
       " 691,\n",
       " 693,\n",
       " 732,\n",
       " 738,\n",
       " 779,\n",
       " 781,\n",
       " 783,\n",
       " 788,\n",
       " 828,\n",
       " 831,\n",
       " 836,\n",
       " 875,\n",
       " 877,\n",
       " 879,\n",
       " 880,\n",
       " 882,\n",
       " 883,\n",
       " 924,\n",
       " 925,\n",
       " 927,\n",
       " 929,\n",
       " 979,\n",
       " 1023,\n",
       " 1025,\n",
       " 1072]"
      ]
     },
     "execution_count": 113,
     "metadata": {},
     "output_type": "execute_result"
    }
   ],
   "source": [
    "actual_indicies"
   ]
  },
  {
   "cell_type": "code",
   "execution_count": 120,
   "metadata": {},
   "outputs": [
    {
     "name": "stdout",
     "output_type": "stream",
     "text": [
      "0 0.45685455 0.27669713 0.9644711 0.546376\n",
      "4 0.4494363 0.11975161 0.97847396 0.24017943\n",
      "6 0.49523732 0.16659585 0.9904659 0.33929476\n",
      "7 0.4976262 0.13695419 0.9909966 0.27419344\n",
      "8 0.49553367 0.21901473 0.98719215 0.45010892\n",
      "9 0.49323162 0.18803227 0.9875351 0.3811027\n",
      "10 0.48217496 0.11443673 0.9835096 0.22688624\n",
      "22 0.50614035 0.12508939 0.9847381 0.24633838\n",
      "23 0.50088096 0.21051934 0.9897955 0.42697304\n",
      "24 0.50393474 0.12870142 0.9871061 0.25654015\n",
      "25 0.50050336 0.19638458 0.9914765 0.39435026\n",
      "26 0.4978063 0.29473555 0.99238306 0.5976004\n",
      "27 0.50073755 0.26186588 0.9926784 0.53187764\n",
      "28 0.49820167 0.29481962 0.99296826 0.5945288\n",
      "29 0.49907285 0.1937461 0.99338406 0.39233392\n",
      "30 0.49973276 0.17198119 0.992386 0.34713852\n",
      "31 0.5004221 0.20968668 0.9939733 0.4235894\n",
      "32 0.5068685 0.16864131 0.9932508 0.33740583\n",
      "33 0.5133687 0.11162544 0.99088895 0.2211923\n",
      "34 0.49718574 0.2024378 0.9945539 0.4100792\n",
      "35 0.49828866 0.29742178 0.9942127 0.6006592\n",
      "36 0.49964347 0.2671305 0.99447364 0.54263484\n",
      "37 0.50387335 0.31161934 0.99479127 0.6289616\n",
      "38 0.50620246 0.3161127 0.99448 0.638454\n",
      "39 0.50440973 0.3153208 0.99286073 0.63772595\n",
      "40 0.5061169 0.33015263 0.9960056 0.6727436\n",
      "41 0.50948274 0.31564873 0.9927798 0.63847464\n",
      "42 0.5091371 0.24712026 0.9875442 0.5012888\n",
      "43 0.5141711 0.2952952 0.9876424 0.59673357\n",
      "44 0.51235455 0.3114786 0.9845502 0.62923783\n",
      "45 0.5359437 0.289251 0.95903003 0.58176106\n",
      "46 0.62131596 0.25059253 0.84807485 0.5012901\n",
      "104 0.47829765 0.13755636 0.9660353 0.27516967\n",
      "105 0.40098485 0.1226159 0.86345047 0.24732444\n",
      "130 0.48425132 0.20156659 0.97730553 0.39175218\n",
      "153 0.33051005 0.14040183 0.47704014 0.22677535\n",
      "156 0.3155339 0.20752223 0.4947392 0.34361595\n",
      "157 0.31592804 0.30251035 0.5323952 0.5300379\n",
      "158 0.31192157 0.30114043 0.52375436 0.528541\n",
      "159 0.31388882 0.3108165 0.532132 0.5385467\n",
      "160 0.3125254 0.30371845 0.5295313 0.53138894\n",
      "161 0.31188235 0.3057538 0.5341433 0.5398571\n",
      "162 0.31518236 0.30845383 0.5377902 0.54147357\n",
      "164 0.32646808 0.15238218 0.49581876 0.24199066\n",
      "165 0.32571545 0.27700356 0.5486982 0.46689343\n",
      "177 0.44265282 0.3364879 0.74566865 0.5886854\n",
      "182 0.49243125 0.32185706 0.65595907 0.56315446\n",
      "199 0.32029364 0.18981363 0.49795425 0.31072545\n",
      "202 0.29877713 0.13739225 0.3418526 0.18276696\n",
      "203 0.30610093 0.16692476 0.37837926 0.24458936\n",
      "204 0.3114645 0.19703658 0.41826278 0.30980968\n",
      "205 0.31429753 0.1690188 0.34146744 0.24681494\n",
      "206 0.3180139 0.1736052 0.35066086 0.2504042\n",
      "207 0.3235759 0.17647724 0.34438443 0.25959542\n",
      "208 0.32353377 0.2286473 0.4489015 0.37727836\n",
      "209 0.32489455 0.21190964 0.44213253 0.34179246\n",
      "210 0.34740484 0.14136624 0.30649894 0.18847995\n",
      "211 0.32014832 0.2693447 0.5101233 0.4533196\n",
      "212 0.31913665 0.31926307 0.53766245 0.5488097\n",
      "214 0.3446071 0.17268781 0.45369533 0.27251542\n",
      "215 0.3610735 0.3258472 0.61871314 0.557764\n",
      "220 0.55712575 0.13255812 0.8006813 0.25663018\n",
      "230 0.44220054 0.3340233 0.7494708 0.5909204\n",
      "240 0.38859946 0.21153039 0.92060906 0.30070752\n",
      "246 0.33019608 0.20553975 0.52600664 0.36513963\n",
      "247 0.22861259 0.13467315 0.25883794 0.1621097\n",
      "248 0.2550384 0.14157648 0.28231373 0.17403616\n",
      "249 0.26549274 0.14057639 0.2651039 0.16555303\n",
      "250 0.29712325 0.16899572 0.35210776 0.23489779\n",
      "251 0.3092361 0.23879202 0.4567678 0.37900546\n",
      "252 0.30215305 0.13986087 0.26594093 0.16490169\n",
      "253 0.30941227 0.15108669 0.27460092 0.18844263\n",
      "254 0.31788498 0.13839337 0.2299386 0.1526835\n",
      "255 0.32785818 0.18167908 0.33799133 0.2542952\n",
      "256 0.33369592 0.17575228 0.32871628 0.23850678\n",
      "258 0.33043018 0.26093963 0.46702543 0.4205186\n",
      "259 0.33672008 0.2308724 0.44094485 0.36254504\n",
      "260 0.34181294 0.24041025 0.45103827 0.38384724\n",
      "261 0.3366124 0.2805985 0.48796168 0.4591677\n",
      "262 0.324289 0.3070287 0.5214652 0.5115169\n",
      "263 0.35806277 0.1781308 0.4410599 0.2827941\n",
      "283 0.6287194 0.13102041 0.8522664 0.16691251\n",
      "291 0.32872826 0.14838232 0.8175174 0.20906459\n",
      "292 0.29834196 0.13319694 0.68151253 0.17649037\n",
      "293 0.29650652 0.2308482 0.49088144 0.3830614\n",
      "294 0.18503942 0.14979316 0.19196665 0.15663354\n",
      "295 0.23877916 0.17232428 0.28177747 0.22113736\n",
      "296 0.24952841 0.16682954 0.2697124 0.19919182\n",
      "297 0.2631826 0.15894142 0.26753983 0.17771922\n",
      "298 0.2873714 0.17025778 0.3250224 0.2159978\n",
      "299 0.30838674 0.22493963 0.43677527 0.33909062\n",
      "300 0.31985536 0.25147375 0.47162506 0.39324617\n",
      "301 0.32046235 0.26949438 0.48158082 0.42590666\n",
      "302 0.31982666 0.24792954 0.44766185 0.37452716\n",
      "303 0.3185743 0.2692451 0.47039908 0.42004216\n",
      "304 0.31791618 0.28995934 0.4961563 0.4606364\n",
      "305 0.3158505 0.32089195 0.5319886 0.5236714\n",
      "306 0.32571095 0.27664453 0.4887599 0.43910506\n",
      "307 0.3762249 0.18201406 0.29903802 0.23629424\n",
      "309 0.35317105 0.25615785 0.43939355 0.4003225\n",
      "310 0.32970828 0.32067645 0.5179985 0.53754854\n",
      "311 0.32920226 0.31120095 0.5160907 0.5136088\n",
      "313 0.41179052 0.26794925 0.71275944 0.46130744\n",
      "339 0.34884435 0.15345663 0.803293 0.24999803\n",
      "340 0.2848748 0.24735677 0.48710823 0.41111857\n",
      "342 0.20628782 0.17681268 0.23618986 0.20499735\n",
      "343 0.20918037 0.17309982 0.2126037 0.17661214\n",
      "344 0.22638059 0.1696673 0.23056635 0.17465994\n",
      "345 0.28450674 0.20884636 0.3795341 0.2921177\n",
      "346 0.30258524 0.23838481 0.43696702 0.36046475\n",
      "347 0.3099426 0.2528849 0.45881718 0.39227507\n",
      "348 0.31979564 0.2204954 0.40861294 0.28983307\n",
      "349 0.318279 0.19937937 0.29397655 0.1974094\n",
      "350 0.3160985 0.19638516 0.22300735 0.14306816\n",
      "351 0.322313 0.19934814 0.253037 0.17944987\n",
      "352 0.32342082 0.21157263 0.34144658 0.24446024\n",
      "353 0.3229581 0.23704696 0.41337013 0.33982244\n",
      "354 0.3400945 0.19771221 0.34540546 0.24298553\n",
      "355 0.33075473 0.2798849 0.47962266 0.44387665\n",
      "356 0.33312765 0.3052516 0.49684384 0.48983714\n",
      "358 0.3660655 0.2714571 0.4218497 0.4238278\n",
      "359 0.36202884 0.2927778 0.44347298 0.46549258\n",
      "362 0.41510963 0.31708556 0.73729706 0.54445285\n",
      "387 0.3251469 0.322582 0.59313864 0.57443446\n",
      "389 0.1588728 0.18639417 0.17956978 0.18112448\n",
      "390 0.17588173 0.18796903 0.17341325 0.16924125\n",
      "391 0.21079578 0.18672076 0.20898576 0.16995825\n",
      "392 0.24336345 0.20194733 0.29105112 0.24487598\n",
      "393 0.26630312 0.2037708 0.3076536 0.23729317\n",
      "394 0.28017542 0.19859186 0.26413807 0.19552769\n",
      "395 0.25362864 0.20488426 0.039484825 0.030667635\n",
      "396 0.303984 0.23233362 0.21548542 0.13746059\n",
      "398 0.29721832 0.23920137 0.18138735 0.14183061\n",
      "399 0.31389335 0.23629129 0.21107954 0.15438634\n",
      "400 0.31454137 0.24328199 0.2314054 0.15867253\n",
      "401 0.31794825 0.2322285 0.2269447 0.15708028\n",
      "402 0.34103838 0.199687 0.2404151 0.13838547\n",
      "405 0.35528338 0.28566363 0.4448839 0.45413396\n",
      "406 0.40597284 0.2587458 0.33984917 0.38099217\n",
      "407 0.36980185 0.2953215 0.42988124 0.46222162\n",
      "408 0.3281241 0.32342938 0.5251652 0.5456091\n",
      "410 0.38180366 0.31848446 0.6764247 0.5477367\n",
      "412 0.55369467 0.16458417 0.80433536 0.23369773\n",
      "413 0.50039005 0.24521028 0.9773473 0.4620303\n",
      "423 0.5522933 0.29416874 0.8864545 0.6060813\n",
      "432 0.34041536 0.21318915 0.8514018 0.2005829\n",
      "433 0.45011857 0.20297976 0.98347914 0.11064971\n",
      "434 0.43655783 0.19134106 0.9693308 0.07911036\n",
      "435 0.16379939 0.19713716 0.2464845 0.19703834\n",
      "439 0.19303678 0.20081842 0.18604422 0.17346315\n",
      "440 0.23357113 0.21471342 0.24589832 0.20675342\n",
      "441 0.2509317 0.21531157 0.23823509 0.19481045\n",
      "442 0.24876386 0.20986 0.06429014 0.058512606\n",
      "443 0.24251047 0.21074042 0.02780353 0.030645141\n",
      "444 0.26325166 0.2125475 0.04622512 0.033274762\n",
      "447 0.3213957 0.257308 0.27860567 0.17946818\n",
      "451 0.3223153 0.25660187 0.27787918 0.1871638\n",
      "454 0.35105628 0.3135367 0.46684375 0.50761235\n",
      "455 0.39487755 0.2869977 0.37521735 0.43049014\n",
      "456 0.37696356 0.30390713 0.42041948 0.4677439\n",
      "457 0.37594154 0.30746114 0.43058276 0.48587304\n",
      "461 0.5797656 0.17184782 0.8450051 0.14344399\n",
      "467 0.46245152 0.28896156 0.769228 0.5030956\n",
      "482 0.14258116 0.21214563 0.2997923 0.1665148\n",
      "487 0.18502808 0.22059694 0.16121267 0.15404887\n",
      "488 0.20922816 0.22532098 0.15384614 0.13432825\n",
      "489 0.23651281 0.23487958 0.14651968 0.1271848\n",
      "491 0.24352974 0.21107365 0.030100854 0.030785926\n",
      "504 0.38660893 0.30430824 0.40256873 0.4614671\n",
      "505 0.35557106 0.32043076 0.47076654 0.5220041\n",
      "507 0.4238581 0.26936275 0.68706447 0.45453563\n",
      "509 0.51533777 0.2037672 0.89906275 0.35580373\n",
      "529 0.15394615 0.2175413 0.30628246 0.17328893\n",
      "535 0.18738264 0.24261422 0.14237222 0.12991077\n",
      "536 0.20291044 0.24363822 0.11395267 0.10751073\n",
      "540 0.24658608 0.27522138 0.1031524 0.15780312\n",
      "542 0.32254827 0.28110152 0.21404488 0.17185679\n",
      "544 0.32233596 0.28012612 0.23992036 0.18827009\n",
      "556 0.5522087 0.24285345 0.7435122 0.4471367\n",
      "563 0.44088826 0.33226424 0.74468184 0.59347934\n",
      "594 0.31747955 0.31483066 0.27412516 0.26515198\n",
      "604 0.41907418 0.3213099 0.7460156 0.53955233\n",
      "611 0.47917673 0.3271623 0.6849091 0.58527505\n",
      "624 0.4276046 0.2893912 0.9555553 0.368506\n",
      "625 0.46022457 0.27122045 0.98102105 0.2306092\n",
      "640 0.3208531 0.32732558 0.2639235 0.2764457\n",
      "652 0.4955443 0.25729266 0.97301245 0.29090366\n",
      "654 0.509811 0.23422723 0.98707217 0.2173093\n",
      "659 0.49421105 0.2686297 0.9847221 0.12021802\n",
      "662 0.5294354 0.2818683 0.9398934 0.4388702\n",
      "664 0.6057366 0.26145944 0.85270387 0.16128856\n",
      "665 0.5694665 0.2600615 0.9036735 0.19514774\n",
      "666 0.5688488 0.249813 0.92370546 0.24127865\n",
      "667 0.571291 0.24760881 0.92261314 0.2655385\n",
      "668 0.5749518 0.2612692 0.9399894 0.16837153\n",
      "669 0.59302074 0.2568037 0.8941471 0.232298\n",
      "670 0.5740431 0.27129927 0.91974187 0.28872028\n",
      "673 0.2647172 0.27654535 0.55303216 0.4382527\n",
      "684 0.3090308 0.30520678 0.24080186 0.210883\n",
      "702 0.53409153 0.28699192 0.92265 0.52630645\n",
      "705 0.5494443 0.29599452 0.8571336 0.52847546\n",
      "707 0.48831114 0.2834463 0.97446764 0.46889797\n",
      "710 0.4755553 0.3289027 0.69034827 0.5933951\n",
      "721 0.2733913 0.28655714 0.56816304 0.3476564\n",
      "746 0.31907263 0.3242115 0.5275845 0.542971\n",
      "750 0.5139618 0.30484742 0.93910766 0.6112015\n",
      "754 0.56499636 0.29849458 0.86891705 0.5017617\n",
      "755 0.5023224 0.29947957 0.9658996 0.56836677\n",
      "758 0.5171167 0.32534364 0.6406685 0.59485924\n",
      "765 0.6076512 0.31592467 0.8284101 0.63422906\n",
      "769 0.16497535 0.30898812 0.3085243 0.24762258\n",
      "780 0.31805003 0.32972184 0.25567448 0.25691164\n",
      "795 0.31869718 0.32104573 0.54327005 0.54802984\n",
      "803 0.51488376 0.29347068 0.9575632 0.57309896\n",
      "806 0.5055412 0.31404468 0.95794547 0.5798644\n",
      "816 0.41506973 0.32476848 0.92752874 0.31025523\n",
      "817 0.4981542 0.3345066 0.9934656 0.54049146\n",
      "825 0.30511752 0.34291154 0.4946714 0.4166249\n",
      "829 0.3136768 0.334969 0.24581774 0.2532036\n",
      "843 0.32354286 0.32066172 0.5335598 0.53847754\n",
      "854 0.5850892 0.31990296 0.84818095 0.56674737\n",
      "856 0.56596845 0.3172777 0.94360334 0.2819035\n",
      "857 0.56381804 0.32348233 0.9338035 0.23905249\n",
      "858 0.55839187 0.30434772 0.94274867 0.39644304\n",
      "859 0.5233522 0.3130247 0.960092 0.3883274\n",
      "860 0.5643466 0.3179083 0.9310278 0.25799614\n",
      "861 0.57834685 0.31020728 0.9156259 0.3434729\n",
      "862 0.5793606 0.32801595 0.90857816 0.2730356\n",
      "865 0.30875236 0.33129552 0.66242546 0.45196185\n",
      "873 0.2887943 0.33695492 0.37815446 0.31271178\n",
      "876 0.28036615 0.32317847 0.17529556 0.2599657\n",
      "878 0.32003322 0.33053336 0.28678283 0.29623368\n",
      "885 0.3578193 0.32281423 0.2832224 0.26189086\n",
      "890 0.3212442 0.31938082 0.53325737 0.54468495\n",
      "891 0.35117304 0.32877326 0.48108965 0.52411306\n",
      "892 0.4350829 0.3342497 0.6856617 0.49280816\n",
      "898 0.53080785 0.3725787 0.91537976 0.3814288\n",
      "899 0.50283957 0.33541048 0.96344215 0.56893224\n",
      "902 0.5403433 0.32971236 0.9339643 0.66339797\n",
      "908 0.60510266 0.33190045 0.8537298 0.5997644\n",
      "909 0.62226105 0.31690454 0.76136506 0.6530368\n",
      "913 0.2623043 0.3165555 0.53923625 0.52568126\n",
      "917 0.16036257 0.3851946 0.20397598 0.35743958\n",
      "921 0.28783754 0.3326024 0.41383556 0.34449813\n",
      "926 0.3168797 0.32897326 0.27880916 0.29029125\n",
      "933 0.36796826 0.3588008 0.3451075 0.35273167\n",
      "937 0.32689714 0.32259315 0.5282088 0.5435514\n",
      "938 0.323131 0.31899413 0.52985126 0.5398025\n",
      "940 0.42308134 0.31684506 0.7256123 0.5443243\n",
      "947 0.61146706 0.3617343 0.7850274 0.4616313\n",
      "956 0.6133067 0.3236276 0.81621 0.5836446\n",
      "961 0.20435672 0.34895948 0.41598764 0.3037555\n",
      "962 0.34998837 0.37464994 0.7695828 0.37235042\n",
      "974 0.3195528 0.33507434 0.27727896 0.27891716\n",
      "978 0.3169498 0.3303965 0.27061668 0.2772945\n",
      "985 0.3639038 0.32827535 0.45051098 0.5044191\n",
      "986 0.31822744 0.31917325 0.5415227 0.5436457\n",
      "1033 0.3252146 0.3180376 0.53510416 0.547599\n",
      "1035 0.4140791 0.3145053 0.73729634 0.5470603\n",
      "1048 0.5642648 0.37775075 0.9452771 0.33539057\n",
      "1050 0.540312 0.36866125 0.95526737 0.34192097\n",
      "1051 0.55191743 0.37386394 0.9646447 0.33029416\n",
      "1062 0.21066141 0.36658624 0.27242827 0.3616819\n",
      "1068 0.3140072 0.35831547 0.39719665 0.37495497\n",
      "1079 0.37804323 0.34419757 0.41970682 0.47556356\n",
      "1080 0.34225354 0.32336012 0.49826807 0.5304272\n",
      "1081 0.3288744 0.32043663 0.52782875 0.543428\n",
      "1083 0.4550636 0.3592806 0.6181597 0.54808366\n",
      "1086 0.5024917 0.35841182 0.97883725 0.5717538\n",
      "1107 0.40210915 0.37710354 0.8999767 0.4662439\n",
      "1112 0.2511898 0.38330492 0.32922792 0.38300487\n",
      "1117 0.32076377 0.37624547 0.41469097 0.38399208\n",
      "1125 0.40099263 0.39544812 0.34639856 0.38421553\n",
      "1126 0.361866 0.34364104 0.44754204 0.49002624\n",
      "1127 0.32699838 0.326698 0.5300406 0.5352788\n",
      "1128 0.3195348 0.32008854 0.5479224 0.55009097\n",
      "1130 0.41567066 0.3219943 0.73356664 0.5395976\n",
      "1156 0.3516338 0.32697085 0.648843 0.556798\n",
      "1160 0.27492368 0.36717144 0.37992057 0.4019653\n",
      "1173 0.37819648 0.38475206 0.39087915 0.4168291\n",
      "1174 0.32603276 0.324931 0.53907996 0.54972416\n",
      "1175 0.33391273 0.3299465 0.51879174 0.5397215\n",
      "1177 0.3460948 0.33481714 0.58070195 0.5120389\n",
      "1205 0.49852645 0.37803435 0.98658365 0.48934326\n",
      "1212 0.31039098 0.3787958 0.40042958 0.40380827\n",
      "1219 0.35334328 0.39141858 0.42356908 0.41141912\n",
      "1220 0.35635602 0.3923833 0.42479506 0.4110251\n",
      "1221 0.32097688 0.32516682 0.550064 0.55302966\n",
      "1222 0.36185902 0.37668827 0.43509793 0.44838467\n",
      "1224 0.34362438 0.32675642 0.6106906 0.5299859\n",
      "1254 0.47793418 0.33355495 0.8822735 0.59253573\n",
      "1259 0.30199012 0.38378137 0.40499857 0.4132333\n",
      "1261 0.31602234 0.3534827 0.47991735 0.4839974\n",
      "1262 0.32030243 0.37937766 0.41837084 0.42038685\n",
      "1266 0.3311314 0.37756202 0.46727446 0.4380251\n",
      "1267 0.3366073 0.37193587 0.4715217 0.45595118\n",
      "1268 0.33047256 0.34797102 0.5083132 0.5120403\n",
      "1271 0.3520502 0.4001971 0.45371324 0.39171603\n",
      "1272 0.41272357 0.32262987 0.7485492 0.56719714\n",
      "1302 0.42859304 0.41515586 0.93061185 0.45722333\n",
      "1303 0.5052486 0.37399235 0.9788511 0.55583614\n",
      "1308 0.31819803 0.3600724 0.5139609 0.49051586\n",
      "1309 0.31734785 0.33779576 0.54379034 0.5379815\n",
      "1311 0.31887817 0.33702004 0.54425687 0.53794694\n",
      "1312 0.31834978 0.33617315 0.5461836 0.5366174\n",
      "1313 0.32054433 0.35514653 0.5225111 0.4932261\n",
      "1314 0.32599112 0.40279287 0.48737064 0.39869118\n",
      "1317 0.31787533 0.32783425 0.5512314 0.53168005\n",
      "1318 0.3760068 0.3120355 0.6551849 0.5766283\n",
      "1319 0.41158623 0.39509588 0.5786553 0.4741463\n",
      "1353 0.4978348 0.40994686 0.9902194 0.46807396\n",
      "1363 0.31238717 0.36011538 0.5442327 0.47451794\n",
      "1365 0.4415881 0.35728005 0.8691422 0.56617236\n",
      "1383 0.5161879 0.35928097 0.9616766 0.5740986\n",
      "1392 0.35140595 0.36953527 0.7116732 0.56304127\n",
      "1422 0.46697482 0.3943219 0.9031872 0.47374344\n",
      "1425 0.47571975 0.35458022 0.67894334 0.51308\n",
      "1427 0.45415044 0.33130488 0.7212304 0.58993673\n",
      "1471 0.49759707 0.40340137 0.96295285 0.45109478\n",
      "1478 0.49187654 0.34503618 0.9842576 0.5963803\n",
      "1542 0.44453648 0.41616398 0.89293754 0.4391316\n",
      "1547 0.5081727 0.36232087 0.9827291 0.56630015\n",
      "1565 0.5085153 0.42242992 0.99234796 0.4581339\n",
      "1586 0.19237645 0.3287808 0.4070024 0.69943833\n",
      "1588 0.15238366 0.3604215 0.303537 0.62616026\n",
      "1591 0.2491888 0.4099231 0.507689 0.49479383\n",
      "1592 0.27279234 0.39743394 0.53440523 0.5187028\n",
      "1593 0.28531525 0.3566014 0.56032777 0.5988461\n",
      "1594 0.2909341 0.3326627 0.5258418 0.6267437\n",
      "1595 0.45713812 0.36604017 0.96652836 0.5340735\n",
      "1596 0.29211402 0.3167952 0.54662865 0.69021904\n",
      "1597 0.29697588 0.3292395 0.55764973 0.67186314\n",
      "1598 0.34092677 0.36357996 0.44945988 0.57187665\n",
      "1599 0.33860365 0.3214402 0.5461112 0.6894105\n",
      "1601 0.400264 0.3371946 0.5254068 0.63516426\n",
      "1603 0.4951277 0.3908631 0.9554355 0.47161534\n",
      "1604 0.4554588 0.33755857 0.49044415 0.63776064\n",
      "1605 0.45030817 0.37132382 0.5542843 0.62582785\n",
      "1608 0.5335509 0.36808634 0.91264236 0.55001235\n",
      "1609 0.4875558 0.32878777 0.8752777 0.6464228\n",
      "1610 0.52632576 0.39127773 0.9184649 0.47819757\n",
      "1611 0.5493025 0.41319647 0.89099044 0.44240567\n",
      "1613 0.5063474 0.37275296 0.99131036 0.55204314\n",
      "1618 0.5919981 0.4189917 0.8550162 0.44108632\n",
      "1619 0.5602794 0.39181665 0.9097488 0.49980542\n",
      "1620 0.5052127 0.35831994 0.98389184 0.57085747\n",
      "1621 0.57396764 0.4136739 0.90567964 0.44222105\n",
      "1622 0.5531014 0.3915599 0.94463307 0.48930502\n",
      "1624 0.6109526 0.36297157 0.82498586 0.5665241\n",
      "1635 0.14386363 0.40510982 0.3080459 0.64030725\n",
      "1636 0.15494284 0.36803445 0.326225 0.6574546\n",
      "1642 0.26377907 0.3971637 0.5418842 0.5453349\n",
      "1643 0.3014895 0.34009892 0.61045504 0.6891176\n",
      "1645 0.28536093 0.3827256 0.5542409 0.53127444\n",
      "1648 0.3770633 0.3609582 0.5974562 0.5942847\n",
      "1649 0.3864888 0.34966028 0.5510351 0.63442737\n",
      "1650 0.4140707 0.41145307 0.40681127 0.40766615\n",
      "1653 0.4623512 0.36714202 0.51746565 0.53631264\n",
      "1655 0.46216682 0.36888912 0.48761728 0.6666504\n",
      "1658 0.45518792 0.34247628 0.89657974 0.6559011\n",
      "1659 0.5586349 0.3729583 0.79906267 0.52395654\n",
      "1660 0.5243638 0.32901192 0.9646002 0.6326306\n",
      "1668 0.58814704 0.38552403 0.85893303 0.5115462\n",
      "1690 0.21683946 0.42630637 0.4320419 0.44132233\n",
      "1691 0.29534185 0.36763516 0.60131896 0.6354732\n",
      "1692 0.30379975 0.37848052 0.62482977 0.6267776\n",
      "1697 0.40376493 0.38211584 0.5900257 0.50411415\n",
      "1698 0.39164028 0.33293888 0.61687493 0.62295586\n",
      "1706 0.4486483 0.40426007 0.58700424 0.64871866\n",
      "1707 0.542416 0.33825737 0.9166534 0.6386647\n",
      "1739 0.28690803 0.39506328 0.5982922 0.58177704\n"
     ]
    }
   ],
   "source": [
    "boxes = predictions['pred_boxes']\n",
    "embeddings = predictions['class_embeddings']\n",
    "\n",
    "n = 0\n",
    "idx = actual_indicies[n]\n",
    "#print(idx, boxes[idx], embeddings[idx])\n",
    "box = boxes[idx]\n",
    "embedding = embeddings[idx]\n",
    "target_cx, target_cy, _, _ = box\n",
    "\n",
    "for i in range(len(boxes)):\n",
    "    cx, cy, w, h = boxes[i]\n",
    "    xmin = cx - w/2\n",
    "    xmax = cx + w/2\n",
    "    ymin = cy - h/2\n",
    "    ymax = cy + h/2\n",
    "    if (xmin < target_cx < xmax) and (ymin < target_cy < ymax):\n",
    "        print(i, cx, cy, w, h)"
   ]
  },
  {
   "cell_type": "code",
   "execution_count": null,
   "metadata": {},
   "outputs": [],
   "source": []
  }
 ],
 "metadata": {
  "colab": {
   "collapsed_sections": [],
   "last_runtime": {
    "build_target": "//learning/deepmind/public/tools/ml_python:ml_notebook",
    "kind": "private"
   },
   "name": "OWL-ViT minimal example.ipynb",
   "provenance": [
    {
     "file_id": "1kBebGRuMcABXiprw6IEAxpbKAXNO4EOQ",
     "timestamp": 1651575080312
    },
    {
     "file_id": "https://github.com/google-research/scenic/blob/main/scenic/common_lib/colabs/scenic_playground.ipynb",
     "timestamp": 1650960476931
    }
   ]
  },
  "kernelspec": {
   "display_name": "Python 3 (ipykernel)",
   "language": "python",
   "name": "python3"
  },
  "language_info": {
   "codemirror_mode": {
    "name": "ipython",
    "version": 3
   },
   "file_extension": ".py",
   "mimetype": "text/x-python",
   "name": "python",
   "nbconvert_exporter": "python",
   "pygments_lexer": "ipython3",
   "version": "3.10.4"
  }
 },
 "nbformat": 4,
 "nbformat_minor": 4
}
